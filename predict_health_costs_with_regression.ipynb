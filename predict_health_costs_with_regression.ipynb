{
  "cells": [
    {
      "cell_type": "markdown",
      "metadata": {
        "id": "view-in-github",
        "colab_type": "text"
      },
      "source": [
        "<a href=\"https://colab.research.google.com/github/MoRushaid/HealthCostCalc/blob/main/predict_health_costs_with_regression.ipynb\" target=\"_parent\"><img src=\"https://colab.research.google.com/assets/colab-badge.svg\" alt=\"Open In Colab\"/></a>"
      ]
    },
    {
      "cell_type": "code",
      "execution_count": null,
      "metadata": {
        "id": "1rRo8oNqZ-Rj"
      },
      "outputs": [],
      "source": [
        "# Import libraries. You may or may not use all of these.\n",
        "!pip install -q git+https://github.com/tensorflow/docs\n",
        "import matplotlib.pyplot as plt\n",
        "import numpy as np\n",
        "import pandas as pd\n",
        "\n",
        "try:\n",
        "  # %tensorflow_version only exists in Colab.\n",
        "  %tensorflow_version 2.x\n",
        "except Exception:\n",
        "  pass\n",
        "import tensorflow as tf\n",
        "\n",
        "from tensorflow import keras\n",
        "from tensorflow.keras import layers\n",
        "\n",
        "import tensorflow_docs as tfdocs\n",
        "import tensorflow_docs.plots\n",
        "import tensorflow_docs.modeling\n",
        "from sklearn import tree\n",
        "from sklearn.model_selection import train_test_split\n",
        "import seaborn as sns\n"
      ]
    },
    {
      "cell_type": "code",
      "execution_count": null,
      "metadata": {
        "id": "CiX2FI4gZtTt"
      },
      "outputs": [],
      "source": [
        "# Import data\n",
        "!wget https://cdn.freecodecamp.org/project-data/health-costs/insurance.csv\n",
        "dataset = pd.read_csv('insurance.csv')\n",
        "dataset.tail()"
      ]
    },
    {
      "cell_type": "code",
      "source": [
        "device_name = tf.test.gpu_device_name()\n",
        "if len(device_name) > 0:\n",
        "    print(\"Found GPU at: {}\".format(device_name))\n",
        "else:\n",
        "    device_name = \"/device:CPU:0\"\n",
        "    print(\"No GPU, using {}.\".format(device_name))"
      ],
      "metadata": {
        "id": "kTWf-j5JSh0d"
      },
      "execution_count": null,
      "outputs": []
    },
    {
      "cell_type": "code",
      "source": [
        "dataset[\"sex\"] = pd.factorize(dataset[\"sex\"])[0]\n",
        "dataset[\"region\"] = pd.factorize(dataset[\"region\"])[0]\n",
        "dataset[\"smoker\"] = pd.factorize(dataset[\"smoker\"])[0]"
      ],
      "metadata": {
        "id": "zkmXwTT2Voex"
      },
      "execution_count": null,
      "outputs": []
    },
    {
      "cell_type": "code",
      "execution_count": null,
      "metadata": {
        "id": "LcopvQh3X-kX"
      },
      "outputs": [],
      "source": [
        "#dataset.describe()\n",
        "features = ['age','bmi','children','sex','smoker','region']\n",
        "X = dataset.loc[:, features]\n",
        "y = dataset.loc[:, ['expenses']]\n",
        "train_dataset, test_dataset, train_labels, test_labels = train_test_split(X, y, random_state=0, train_size = .8)"
      ]
    },
    {
      "cell_type": "code",
      "source": [
        "train_labels.head()"
      ],
      "metadata": {
        "id": "lCrMBjz8Vg7M"
      },
      "execution_count": null,
      "outputs": []
    },
    {
      "cell_type": "code",
      "source": [
        "#features_cat = ['sex', 'smoker', 'region']\n",
        "#for feature in features_cat:\n",
        "#    train_dataset[pd.get_dummies(train_dataset[feature], prefix=feature).columns] = pd.get_dummies(train_dataset[feature], prefix=feature)\n",
        "#    test_dataset[pd.get_dummies(test_dataset[feature], prefix=feature).columns] = pd.get_dummies(test_dataset[feature], prefix=feature)\n",
        "#train_dataset.drop(['sex','smoker','region'], axis = 1, inplace = True)\n",
        "#test_dataset.drop(['sex','smoker','region'], axis = 1, inplace = True)"
      ],
      "metadata": {
        "id": "PdmBPkedSLku"
      },
      "execution_count": null,
      "outputs": []
    },
    {
      "cell_type": "code",
      "source": [
        "train_dataset.head()"
      ],
      "metadata": {
        "id": "yFh2RBVTSLFd"
      },
      "execution_count": null,
      "outputs": []
    },
    {
      "cell_type": "code",
      "source": [
        "with tf.device(device_name):\n",
        "\n",
        "  normalizer = layers.experimental.preprocessing.Normalization()\n",
        "  normalizer.adapt(np.array(train_dataset))\n",
        "\n",
        "  model = keras.Sequential([\n",
        "          normalizer,\n",
        "          layers.Dense(64, activation='relu'),\n",
        "          layers.Dropout(.2),\n",
        "          layers.Dense(64, activation='relu'),\n",
        "          layers.Dropout(.2),\n",
        "          layers.Dense(1),\n",
        "          ])\n",
        "\n",
        "  model.compile(\n",
        "          optimizer = tf.optimizers.Adam(learning_rate=0.001),\n",
        "          loss = 'mae',\n",
        "          metrics = ['mae', 'mse']\n",
        "          )\n",
        "  model.build()\n",
        "\n",
        "model.summary()"
      ],
      "metadata": {
        "id": "IONHNNJZTaAb"
      },
      "execution_count": null,
      "outputs": []
    },
    {
      "cell_type": "code",
      "source": [
        "history = model.fit(\n",
        "    train_dataset,\n",
        "    train_labels,\n",
        "    epochs = 100,\n",
        "    validation_split = 0.15,\n",
        "    verbose=0\n",
        ")"
      ],
      "metadata": {
        "id": "Oi-h1YQyTZ2v"
      },
      "execution_count": null,
      "outputs": []
    },
    {
      "cell_type": "code",
      "execution_count": null,
      "metadata": {
        "id": "Xe7RXH3N3CWU"
      },
      "outputs": [],
      "source": [
        "# RUN THIS CELL TO TEST YOUR MODEL. DO NOT MODIFY CONTENTS.\n",
        "# Test model by checking how well the model generalizes using the test set.\n",
        "loss, mae, mse = model.evaluate(test_dataset, test_labels, verbose=2)\n",
        "\n",
        "print(\"Testing set Mean Abs Error: {:5.2f} expenses\".format(mae))\n",
        "\n",
        "if mae < 3500:\n",
        "  print(\"You passed the challenge. Great job!\")\n",
        "else:\n",
        "  print(\"The Mean Abs Error must be less than 3500. Keep trying.\")\n",
        "\n",
        "# Plot predictions.\n",
        "test_predictions = model.predict(test_dataset).flatten()\n",
        "\n",
        "a = plt.axes(aspect='equal')\n",
        "plt.scatter(test_labels, test_predictions)\n",
        "plt.xlabel('True values (expenses)')\n",
        "plt.ylabel('Predictions (expenses)')\n",
        "lims = [0, 50000]\n",
        "plt.xlim(lims)\n",
        "plt.ylim(lims)\n",
        "_ = plt.plot(lims,lims)\n"
      ]
    }
  ],
  "metadata": {
    "colab": {
      "private_outputs": true,
      "provenance": [],
      "gpuType": "T4",
      "include_colab_link": true
    },
    "kernelspec": {
      "display_name": "Python 3",
      "name": "python3"
    },
    "accelerator": "GPU"
  },
  "nbformat": 4,
  "nbformat_minor": 0
}